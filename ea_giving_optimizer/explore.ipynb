{
 "cells": [
  {
   "cell_type": "code",
   "execution_count": 1,
   "metadata": {
    "pycharm": {
     "is_executing": true
    }
   },
   "outputs": [],
   "source": [
    "%load_ext autoreload\n",
    "%autoreload 2"
   ]
  },
  {
   "cell_type": "code",
   "execution_count": 18,
   "metadata": {
    "pycharm": {
     "name": "#%%\n"
    }
   },
   "outputs": [],
   "source": [
    "import pandas as pd\n",
    "import numpy as np\n",
    "import matplotlib.pyplot as plt\n",
    "plt.rcParams['figure.figsize'] = 20, 5\n",
    "\n",
    "from ea_giving_optimizer.helpers import (\n",
    "    Config,\n",
    "    run_linear_optimization,\n",
    ")"
   ]
  },
  {
   "cell_type": "markdown",
   "metadata": {},
   "source": [
    "## Configure assumptions (or use default)"
   ]
  },
  {
   "cell_type": "code",
   "execution_count": 19,
   "metadata": {
    "pycharm": {
     "name": "#%%\n"
    }
   },
   "outputs": [
    {
     "data": {
      "text/html": [
       "<div>\n",
       "<style scoped>\n",
       "    .dataframe tbody tr th:only-of-type {\n",
       "        vertical-align: middle;\n",
       "    }\n",
       "\n",
       "    .dataframe tbody tr th {\n",
       "        vertical-align: top;\n",
       "    }\n",
       "\n",
       "    .dataframe thead th {\n",
       "        text-align: right;\n",
       "    }\n",
       "</style>\n",
       "<table border=\"1\" class=\"dataframe\">\n",
       "  <thead>\n",
       "    <tr style=\"text-align: right;\">\n",
       "      <th></th>\n",
       "      <th>salary_k</th>\n",
       "      <th>share_tax</th>\n",
       "      <th>req_cost_k_year</th>\n",
       "      <th>leak_multiplier</th>\n",
       "      <th>years</th>\n",
       "      <th>compound_interest</th>\n",
       "      <th>salary_k_year</th>\n",
       "      <th>salary_k_year_after_tax</th>\n",
       "      <th>disposable_salary</th>\n",
       "    </tr>\n",
       "    <tr>\n",
       "      <th>age</th>\n",
       "      <th></th>\n",
       "      <th></th>\n",
       "      <th></th>\n",
       "      <th></th>\n",
       "      <th></th>\n",
       "      <th></th>\n",
       "      <th></th>\n",
       "      <th></th>\n",
       "      <th></th>\n",
       "    </tr>\n",
       "  </thead>\n",
       "  <tbody>\n",
       "    <tr>\n",
       "      <th>30</th>\n",
       "      <td>53.0</td>\n",
       "      <td>0.272</td>\n",
       "      <td>240.0</td>\n",
       "      <td>0.95</td>\n",
       "      <td>0</td>\n",
       "      <td>1.0000</td>\n",
       "      <td>636.0</td>\n",
       "      <td>463.0</td>\n",
       "      <td>223.0</td>\n",
       "    </tr>\n",
       "    <tr>\n",
       "      <th>31</th>\n",
       "      <td>54.0</td>\n",
       "      <td>0.276</td>\n",
       "      <td>240.0</td>\n",
       "      <td>0.94</td>\n",
       "      <td>1</td>\n",
       "      <td>0.9900</td>\n",
       "      <td>648.0</td>\n",
       "      <td>469.0</td>\n",
       "      <td>229.0</td>\n",
       "    </tr>\n",
       "    <tr>\n",
       "      <th>32</th>\n",
       "      <td>55.0</td>\n",
       "      <td>0.280</td>\n",
       "      <td>240.0</td>\n",
       "      <td>0.93</td>\n",
       "      <td>2</td>\n",
       "      <td>0.9801</td>\n",
       "      <td>660.0</td>\n",
       "      <td>475.0</td>\n",
       "      <td>235.0</td>\n",
       "    </tr>\n",
       "  </tbody>\n",
       "</table>\n",
       "</div>"
      ],
      "text/plain": [
       "     salary_k  share_tax  req_cost_k_year  leak_multiplier  years  \\\n",
       "age                                                                 \n",
       "30       53.0      0.272            240.0             0.95      0   \n",
       "31       54.0      0.276            240.0             0.94      1   \n",
       "32       55.0      0.280            240.0             0.93      2   \n",
       "\n",
       "     compound_interest  salary_k_year  salary_k_year_after_tax  \\\n",
       "age                                                              \n",
       "30              1.0000          636.0                    463.0   \n",
       "31              0.9900          648.0                    469.0   \n",
       "32              0.9801          660.0                    475.0   \n",
       "\n",
       "     disposable_salary  \n",
       "age                     \n",
       "30               223.0  \n",
       "31               229.0  \n",
       "32               235.0  "
      ]
     },
     "execution_count": 19,
     "metadata": {},
     "output_type": "execute_result"
    }
   ],
   "source": [
    "conf = Config()\n",
    "conf.df.head(3)"
   ]
  },
  {
   "cell_type": "code",
   "execution_count": 20,
   "metadata": {},
   "outputs": [
    {
     "name": "stdout",
     "output_type": "stream",
     "text": [
      "\n",
      "Quality adjusted lives saved: 328\n",
      "\n",
      "Sum given <function tot_give at 0x7fabc8cd5f70>\n",
      "\n",
      "Recommended tot given per age: {30: 220.77, 31: 226.71, 32: 232.65, 33: 244.53, 34: 250.47, 35: 255.42, 36: 261.36, 37: 269.28, 38: 286.11, 39: 295.02, 40: 302.94, 41: 286.11, 42: 269.28, 43: 255.42, 44: 244.53, 45: 232.65, 46: 232.65, 47: 226.71, 48: 226.71, 49: 226.71, 50: 226.71, 51: 226.71, 52: 220.77, 53: 220.77, 54: 220.77, 55: 214.83, 56: 214.83, 57: 214.83, 58: 214.83, 59: 214.83, 60: 207.9, 61: 207.9, 62: 207.9, 63: 201.96, 64: 201.96, 65: 201.96, 66: 201.96, 67: 201.96, 68: 201.96, 69: 201.96, 70: 201.96, 71: 201.96, 72: 201.96, 73: 201.96, 74: 201.96, 75: 201.96, 76: 201.96, 77: 201.96, 78: 201.96, 79: 201.96, 80: 201.96}\n"
     ]
    }
   ],
   "source": [
    "opt_res = run_linear_optimization(conf)"
   ]
  },
  {
   "cell_type": "code",
   "execution_count": null,
   "metadata": {},
   "outputs": [],
   "source": []
  },
  {
   "cell_type": "code",
   "execution_count": null,
   "metadata": {},
   "outputs": [],
   "source": []
  },
  {
   "cell_type": "code",
   "execution_count": null,
   "metadata": {},
   "outputs": [],
   "source": []
  },
  {
   "cell_type": "code",
   "execution_count": null,
   "metadata": {},
   "outputs": [],
   "source": []
  },
  {
   "cell_type": "code",
   "execution_count": null,
   "metadata": {},
   "outputs": [],
   "source": []
  },
  {
   "cell_type": "code",
   "execution_count": null,
   "metadata": {},
   "outputs": [],
   "source": []
  },
  {
   "cell_type": "markdown",
   "metadata": {},
   "source": [
    "# Old approach - some of this will be deleted but might re-use some summary plots etc."
   ]
  },
  {
   "cell_type": "markdown",
   "metadata": {},
   "source": [
    "## Get recommended giving share per age"
   ]
  },
  {
   "cell_type": "code",
   "execution_count": 13,
   "metadata": {},
   "outputs": [],
   "source": [
    "from ea_giving_optimizer.helpers import (\n",
    "    best_giving_optuna,\n",
    "    tot_give,\n",
    "    cum_res_dicts,\n",
    "    apply_cum_metrics\n",
    ")"
   ]
  },
  {
   "cell_type": "code",
   "execution_count": 9,
   "metadata": {
    "pycharm": {
     "name": "#%%\n"
    }
   },
   "outputs": [
    {
     "name": "stderr",
     "output_type": "stream",
     "text": [
      "\u001B[32m[I 2022-01-09 12:46:04,349]\u001B[0m A new study created in memory with name: no-name-72ff2284-e55e-4a43-85d8-f513dd47008b\u001B[0m\n",
      "/Users/simonandersson/Desktop/code/ea-giving-optimizer/ea_giving_optimizer/helpers.py:260: ExperimentalWarning: enqueue_trial is experimental (supported from v1.2.0). The interface can change in the future.\n",
      "  study.enqueue_trial(give_last_dict)\n",
      "/Users/simonandersson/Desktop/code/ea-giving-optimizer/.env/lib/python3.8/site-packages/optuna/study/study.py:857: ExperimentalWarning: create_trial is experimental (supported from v2.0.0). The interface can change in the future.\n",
      "  create_trial(state=TrialState.WAITING, system_attrs={\"fixed_params\": params})\n",
      "/Users/simonandersson/Desktop/code/ea-giving-optimizer/.env/lib/python3.8/site-packages/optuna/study/study.py:856: ExperimentalWarning: add_trial is experimental (supported from v2.0.0). The interface can change in the future.\n",
      "  self.add_trial(\n",
      "/Users/simonandersson/Desktop/code/ea-giving-optimizer/ea_giving_optimizer/helpers.py:262: ExperimentalWarning: enqueue_trial is experimental (supported from v1.2.0). The interface can change in the future.\n",
      "  study.enqueue_trial(give_all_dict)\n",
      "/Users/simonandersson/Desktop/code/ea-giving-optimizer/ea_giving_optimizer/helpers.py:264: ExperimentalWarning: enqueue_trial is experimental (supported from v1.2.0). The interface can change in the future.\n",
      "  study.enqueue_trial(give_half_dict)\n",
      "/Users/simonandersson/Desktop/code/ea-giving-optimizer/ea_giving_optimizer/helpers.py:266: ExperimentalWarning: enqueue_trial is experimental (supported from v1.2.0). The interface can change in the future.\n",
      "  study.enqueue_trial(linear_increase_dict)\n",
      "\u001B[32m[I 2022-01-09 12:46:04,372]\u001B[0m Trial 0 finished with value: 4457.214820312806 and parameters: {30: 0, 31: 0, 32: 0, 33: 0, 34: 0, 35: 0, 36: 0, 37: 0, 38: 0, 39: 0, 40: 0, 41: 0, 42: 0, 43: 0, 44: 0, 45: 0, 46: 0, 47: 0, 48: 0, 49: 0, 50: 0, 51: 0, 52: 0, 53: 0, 54: 0, 55: 0, 56: 0, 57: 0, 58: 0, 59: 0, 60: 0, 61: 0, 62: 0, 63: 0, 64: 0, 65: 0, 66: 0, 67: 0, 68: 0, 69: 0, 70: 0, 71: 0, 72: 0, 73: 0, 74: 0, 75: 0, 76: 0, 77: 0, 78: 0, 79: 0, 80: 1}. Best is trial 0 with value: 4457.214820312806.\u001B[0m\n",
      "\u001B[32m[I 2022-01-09 12:46:04,375]\u001B[0m Trial 1 finished with value: 8522.75655 and parameters: {30: 1, 31: 1, 32: 1, 33: 1, 34: 1, 35: 1, 36: 1, 37: 1, 38: 1, 39: 1, 40: 1, 41: 1, 42: 1, 43: 1, 44: 1, 45: 1, 46: 1, 47: 1, 48: 1, 49: 1, 50: 1, 51: 1, 52: 1, 53: 1, 54: 1, 55: 1, 56: 1, 57: 1, 58: 1, 59: 1, 60: 1, 61: 1, 62: 1, 63: 1, 64: 1, 65: 1, 66: 1, 67: 1, 68: 1, 69: 1, 70: 1, 71: 1, 72: 1, 73: 1, 74: 1, 75: 1, 76: 1, 77: 1, 78: 1, 79: 1, 80: 1}. Best is trial 1 with value: 8522.75655.\u001B[0m\n",
      "\u001B[32m[I 2022-01-09 12:46:04,381]\u001B[0m Trial 2 finished with value: 8343.81202319416 and parameters: {30: 0.5, 31: 0.5, 32: 0.5, 33: 0.5, 34: 0.5, 35: 0.5, 36: 0.5, 37: 0.5, 38: 0.5, 39: 0.5, 40: 0.5, 41: 0.5, 42: 0.5, 43: 0.5, 44: 0.5, 45: 0.5, 46: 0.5, 47: 0.5, 48: 0.5, 49: 0.5, 50: 0.5, 51: 0.5, 52: 0.5, 53: 0.5, 54: 0.5, 55: 0.5, 56: 0.5, 57: 0.5, 58: 0.5, 59: 0.5, 60: 0.5, 61: 0.5, 62: 0.5, 63: 0.5, 64: 0.5, 65: 0.5, 66: 0.5, 67: 0.5, 68: 0.5, 69: 0.5, 70: 0.5, 71: 0.5, 72: 0.5, 73: 0.5, 74: 0.5, 75: 0.5, 76: 0.5, 77: 0.5, 78: 0.5, 79: 0.5, 80: 1}. Best is trial 1 with value: 8522.75655.\u001B[0m\n",
      "\u001B[32m[I 2022-01-09 12:46:04,388]\u001B[0m Trial 3 finished with value: 8152.877708514314 and parameters: {30: 0.0, 31: 0.02, 32: 0.04, 33: 0.06, 34: 0.08, 35: 0.1, 36: 0.12, 37: 0.14, 38: 0.16, 39: 0.18, 40: 0.2, 41: 0.22, 42: 0.24, 43: 0.26, 44: 0.28, 45: 0.3, 46: 0.32, 47: 0.34, 48: 0.36, 49: 0.38, 50: 0.4, 51: 0.42, 52: 0.44, 53: 0.46, 54: 0.48, 55: 0.5, 56: 0.52, 57: 0.54, 58: 0.56, 59: 0.58, 60: 0.6, 61: 0.62, 62: 0.64, 63: 0.66, 64: 0.68, 65: 0.7, 66: 0.72, 67: 0.74, 68: 0.76, 69: 0.78, 70: 0.8, 71: 0.82, 72: 0.84, 73: 0.86, 74: 0.88, 75: 0.9, 76: 0.92, 77: 0.94, 78: 0.96, 79: 0.98, 80: 1.0}. Best is trial 1 with value: 8522.75655.\u001B[0m\n",
      "\u001B[32m[I 2022-01-09 12:46:04,401]\u001B[0m Trial 4 finished with value: 8314.344381387058 and parameters: {30: 0.9164927464474527, 31: 0.6568098225035145, 32: 0.04382694819970934, 33: 0.6579848964418884, 34: 0.2443209886998099, 35: 0.6649950540014172, 36: 0.8833953887265908, 37: 0.10561361314224471, 38: 0.9038927050473634, 39: 0.4233235607391299, 40: 0.42106638294328147, 41: 0.9157138407144544, 42: 0.5181743158333437, 43: 0.3821986650677526, 44: 0.8549165096270496, 45: 0.21043602800688765, 46: 0.2015938911461015, 47: 0.6802183281283333, 48: 0.8697020158290448, 49: 0.9027237066673082, 50: 0.7749072312244508, 51: 0.09609373668126886, 52: 0.9373146508504935, 53: 0.1485765038057103, 54: 0.7944927063665826, 55: 0.3901103058344464, 56: 0.7120995234198592, 57: 0.8503117645390689, 58: 0.45729521549682306, 59: 0.6242019170411837, 60: 0.5300540029663182, 61: 0.467719363161481, 62: 0.8624353328351236, 63: 0.1189010607448362, 64: 0.952066796034334, 65: 0.6902387207697259, 66: 0.13926260049055106, 67: 0.9375031405586894, 68: 0.3673084078613773, 69: 0.22889352606405233, 70: 0.3784508063936428, 71: 0.5088640415018807, 72: 0.5369175416903538, 73: 0.9576423824698778, 74: 0.5596896045904982, 75: 0.7218456223662237, 76: 0.1720465675685401, 77: 0.4072226449746037, 78: 0.6622675567985087, 79: 0.3585056679896538, 80: 0.62524604876583}. Best is trial 1 with value: 8522.75655.\u001B[0m\n",
      "\u001B[32m[I 2022-01-09 12:46:04,412]\u001B[0m Trial 5 finished with value: 8329.403578615023 and parameters: {30: 0.824700300261277, 31: 0.7657223823742841, 32: 0.17103214112248244, 33: 0.6732639813236134, 34: 0.7075068356108991, 35: 0.8620394603682066, 36: 0.3082855357079226, 37: 0.6479467438850737, 38: 0.9978427222958852, 39: 0.05080227563890416, 40: 0.9398910767983852, 41: 0.5504478534700697, 42: 0.3519296098037431, 43: 0.2776429581766019, 44: 0.44204128307234825, 45: 0.48290673260001415, 46: 0.17030138445622456, 47: 0.15608841513213823, 48: 0.3733785463768493, 49: 0.35871307354692694, 50: 0.38182805811832865, 51: 0.34146312797619793, 52: 0.7851976023693688, 53: 0.7349377314147453, 54: 0.003449545707269075, 55: 0.728898044260838, 56: 0.3737711280409125, 57: 0.4261542175358859, 58: 0.8131988324328453, 59: 0.9627347876921287, 60: 0.25958460645298354, 61: 0.56975770304772, 62: 0.012789719784902509, 63: 0.7388614037122909, 64: 0.3531822155959313, 65: 0.6463205688054754, 66: 0.7906144775532172, 67: 0.6020782388257813, 68: 0.8143362528369558, 69: 0.5957886238615483, 70: 0.536380512904097, 71: 0.11841715126719343, 72: 0.050167086599831046, 73: 0.13212425406006223, 74: 0.18821942515794765, 75: 0.3689456518469528, 76: 0.6542975686780336, 77: 0.4416731479308481, 78: 0.3229889282936005, 79: 0.8223202727759159, 80: 0.9457504455967009}. Best is trial 1 with value: 8522.75655.\u001B[0m\n",
      "\u001B[32m[I 2022-01-09 12:46:04,423]\u001B[0m Trial 6 finished with value: 8276.02117591418 and parameters: {30: 0.8603738052290703, 31: 0.217526125997757, 32: 0.8828770547278266, 33: 0.9964923717479691, 34: 0.6763039297116392, 35: 0.7471037586822854, 36: 0.5383452648925497, 37: 0.8759590236359807, 38: 0.8349239502585417, 39: 0.1970560764385868, 40: 0.6724843983307413, 41: 0.42283621065341637, 42: 0.3333942405624566, 43: 0.49587021236042017, 44: 0.7616820977237139, 45: 0.10037536520076862, 46: 0.750328029573771, 47: 0.11136240665157959, 48: 0.28778839584598903, 49: 0.7997537957663003, 50: 0.8037661447657745, 51: 0.6900284502427586, 52: 0.29681890564317814, 53: 0.34812591078391153, 54: 0.17049644347414417, 55: 0.16838373722261013, 56: 0.564413034130736, 57: 0.1465039601339061, 58: 0.042628894907396964, 59: 0.5398186137210232, 60: 0.888346180439283, 61: 0.024732198465054922, 62: 0.08629333502458036, 63: 0.6120667373177539, 64: 0.20360334028185412, 65: 0.0636242944404467, 66: 0.028349323665606385, 67: 0.1710950729151356, 68: 0.36589899805601733, 69: 0.789039340119424, 70: 0.3142265328151217, 71: 0.23553542525944982, 72: 0.8799063872596049, 73: 0.563949103606767, 74: 0.5897259288237127, 75: 0.3285037978145364, 76: 0.7501434944946017, 77: 0.12373374572562224, 78: 0.08706777908956409, 79: 0.5885333561678525, 80: 0.8487787903049462}. Best is trial 1 with value: 8522.75655.\u001B[0m\n",
      "\u001B[32m[I 2022-01-09 12:46:04,435]\u001B[0m Trial 7 finished with value: 8359.65801827991 and parameters: {30: 0.25660623291263895, 31: 0.031333421327252364, 32: 0.24232254041304135, 33: 0.7490754448593937, 34: 0.15956475356156896, 35: 0.6877003791517498, 36: 0.1443953421325359, 37: 0.7561138337342415, 38: 0.9432307974767691, 39: 0.6479323748217876, 40: 0.5936850410872467, 41: 0.2723807254515722, 42: 0.3350949276441191, 43: 0.7548795680264312, 44: 0.6238114185553281, 45: 0.13754774209086174, 46: 0.9919475524551074, 47: 0.699262422329696, 48: 0.7420763772678461, 49: 0.8500628461428453, 50: 0.5699701500403833, 51: 0.5695404006586088, 52: 0.17438293822236073, 53: 0.3177729131375723, 54: 0.904097991314384, 55: 0.6000242108766013, 56: 0.7248494160026189, 57: 0.9837163553265542, 58: 0.8708246071435963, 59: 0.43480585025218044, 60: 0.06285245897889136, 61: 0.47223246204620817, 62: 0.3836400540342154, 63: 0.06850641865609997, 64: 0.534677284209616, 65: 0.7225896907801056, 66: 0.6768599311323079, 67: 0.911852297152933, 68: 0.3541686491515186, 69: 0.39463202511123474, 70: 0.8531203239010176, 71: 0.7961783231318745, 72: 0.4793024272064642, 73: 0.025561278713653435, 74: 0.9397803727439662, 75: 0.07299295840511844, 76: 0.304601631634577, 77: 0.0688720737555637, 78: 0.5161573375969569, 79: 0.9881770818004911, 80: 0.971580247830207}. Best is trial 1 with value: 8522.75655.\u001B[0m\n"
     ]
    },
    {
     "name": "stderr",
     "output_type": "stream",
     "text": [
      "\u001B[32m[I 2022-01-09 12:46:04,444]\u001B[0m Trial 8 finished with value: 8300.336216931491 and parameters: {30: 0.9259099106993928, 31: 0.1174202327574948, 32: 0.5252589474267505, 33: 0.8807131141677563, 34: 0.8353862248330957, 35: 0.04655021735968856, 36: 0.673101065269025, 37: 0.6308685255126625, 38: 0.20688307965493313, 39: 0.2189588632035625, 40: 0.2850902343004592, 41: 0.6452875519498728, 42: 0.7742207486589219, 43: 0.646477052994915, 44: 0.6232514293515317, 45: 0.49761159926919474, 46: 0.24622340623150907, 47: 0.3039303331472758, 48: 0.15369593889903987, 49: 0.3787443353068587, 50: 0.9640576206040895, 51: 0.19805832477280472, 52: 0.19913872241621466, 53: 0.5773598623800513, 54: 0.9913997046195104, 55: 0.7935253996194741, 56: 0.6686296387717033, 57: 0.7551739649002294, 58: 0.38775705557057505, 59: 0.5502085120152052, 60: 0.33815162384653075, 61: 0.7227572374309533, 62: 0.09598607484985333, 63: 0.3866040320271581, 64: 0.4467378494191082, 65: 0.3083697185376465, 66: 0.9922935680105446, 67: 0.8814351404267365, 68: 0.6090457089488039, 69: 0.8299060710337774, 70: 0.26826251020038727, 71: 0.5141237490668568, 72: 0.6613854278482331, 73: 0.4107501055835625, 74: 0.1996706602561782, 75: 0.07133299929857284, 76: 0.11566588203179062, 77: 0.8087304609614575, 78: 0.10966305069413063, 79: 0.778899857999445, 80: 0.7010058111456317}. Best is trial 1 with value: 8522.75655.\u001B[0m\n",
      "\u001B[32m[I 2022-01-09 12:46:04,456]\u001B[0m Trial 9 finished with value: 8310.831657661396 and parameters: {30: 0.14096778901133422, 31: 0.6060322935207743, 32: 0.6023496068785487, 33: 0.51418385124682, 34: 0.047106773344999464, 35: 0.8959387656365384, 36: 0.8886488375261782, 37: 0.403190954616114, 38: 0.8665899551991488, 39: 0.014355983230075808, 40: 0.6633718386303754, 41: 0.10690494973122344, 42: 0.37739966168313244, 43: 0.4384719253569058, 44: 0.8512020854629021, 45: 0.48489074227582196, 46: 0.6966827005401764, 47: 0.41482121932317517, 48: 0.9491223522053925, 49: 0.37402324992989, 50: 0.845378408977486, 51: 0.897939445263292, 52: 0.2540969735652723, 53: 0.7467031626402462, 54: 0.0657193012344176, 55: 0.5571145293519792, 56: 0.3189940161324958, 57: 0.7143866086787719, 58: 0.08204046783964547, 59: 0.9009540191797125, 60: 0.136283415242058, 61: 0.17569617584632768, 62: 0.8497837826090411, 63: 0.20326558811582285, 64: 0.6935844615469614, 65: 0.8312878167118334, 66: 0.5139529232952954, 67: 0.9866656041649723, 68: 0.19236315958022576, 69: 0.12510373239782346, 70: 0.33398742797355707, 71: 0.7954085447561549, 72: 0.9646331233518952, 73: 0.5649501437980069, 74: 0.17775660701505247, 75: 0.7615252828135437, 76: 0.41754886423735527, 77: 0.6729969365404405, 78: 0.657081496570726, 79: 0.5980917990781685, 80: 0.6168455316492523}. Best is trial 1 with value: 8522.75655.\u001B[0m\n"
     ]
    }
   ],
   "source": [
    "# If negative return after existential risk, then the baseline trial number 1 should win, giving everything\n",
    "# each year without waiting\n",
    "give_share_rec = best_giving_optuna(c=c, n_trials=10)"
   ]
  },
  {
   "cell_type": "markdown",
   "metadata": {},
   "source": [
    "## Summarize results"
   ]
  },
  {
   "cell_type": "code",
   "execution_count": 10,
   "metadata": {},
   "outputs": [
    {
     "name": "stdout",
     "output_type": "stream",
     "text": [
      "244 lives saved\n"
     ]
    },
    {
     "data": {
      "text/plain": [
       "<AxesSubplot:xlabel='age'>"
      ]
     },
     "execution_count": 10,
     "metadata": {},
     "output_type": "execute_result"
    },
    {
     "data": {
      "image/png": "[encoded data removed]",
      "text/plain": [
       "<Figure size 1440x360 with 1 Axes>"
      ]
     },
     "metadata": {
      "needs_background": "light"
     },
     "output_type": "display_data"
    }
   ],
   "source": [
    "conf = apply_cum_metrics(conf, give_share_rec)\n",
    "conf.print_lives_saved()\n",
    "(conf.df.iloc[:, -3:]/1000).plot()"
   ]
  },
  {
   "cell_type": "markdown",
   "metadata": {},
   "source": [
    "## Naive reality check"
   ]
  },
  {
   "cell_type": "code",
   "execution_count": 11,
   "metadata": {},
   "outputs": [
    {
     "name": "stdout",
     "output_type": "stream",
     "text": [
      "332 lives saved naive calculation no interest or discounting\n"
     ]
    }
   ],
   "source": [
    "# Reality check vs disposable salary per year giving everything but no interest or discounting of ex risk\n",
    "# Should be higher than \"optimized\" result if net return is lower than 1 due to existential risk discounting \n",
    "# (leading to giving everything immediately being the best solution)\n",
    "print(round((c.df.disposable_salary/c.save_qa_life_cost_k).sum()), \"lives saved naive calculation no interest or discounting\")"
   ]
  },
  {
   "cell_type": "code",
   "execution_count": null,
   "metadata": {},
   "outputs": [],
   "source": []
  }
 ],
 "metadata": {
  "kernelspec": {
   "display_name": "Python 3 (ipykernel)",
   "language": "python",
   "name": "python3"
  },
  "language_info": {
   "codemirror_mode": {
    "name": "ipython",
    "version": 3
   },
   "file_extension": ".py",
   "mimetype": "text/x-python",
   "name": "python",
   "nbconvert_exporter": "python",
   "pygments_lexer": "ipython3",
   "version": "3.8.5"
  }
 },
 "nbformat": 4,
 "nbformat_minor": 1
}