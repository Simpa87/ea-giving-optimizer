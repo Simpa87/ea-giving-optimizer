{
 "cells": [
  {
   "cell_type": "code",
   "execution_count": null,
   "metadata": {
    "pycharm": {
     "is_executing": true
    }
   },
   "outputs": [],
   "source": [
    "%load_ext autoreload\n",
    "%autoreload 2"
   ]
  },
  {
   "cell_type": "code",
   "execution_count": null,
   "metadata": {
    "pycharm": {
     "name": "#%%\n"
    }
   },
   "outputs": [],
   "source": [
    "import pandas as pd\n",
    "from ea_giving_optimizer.helpers import (\n",
    "    Config,\n",
    "    best_giving_optuna,\n",
    "    tot_give\n",
    ")"
   ]
  },
  {
   "cell_type": "code",
   "execution_count": null,
   "metadata": {
    "pycharm": {
     "name": "#%%\n"
    }
   },
   "outputs": [],
   "source": [
    "c = Config()\n",
    "c.df.head()"
   ]
  },
  {
   "cell_type": "code",
   "execution_count": null,
   "metadata": {
    "pycharm": {
     "name": "#%%\n"
    }
   },
   "outputs": [],
   "source": [
    "# Get recommended giving share per age\n",
    "give_share_rec = best_giving_optuna(c=c, n_trials=1)"
   ]
  },
  {
   "cell_type": "code",
   "execution_count": null,
   "metadata": {
    "pycharm": {
     "name": "#%%\n"
    }
   },
   "outputs": [],
   "source": [
    "# Write into col of df\n",
    "c.df['give_share'] = pd.Series(give_share_rec)\n",
    "\n",
    "# Get absolute number result by applying tot_give recursively\n",
    "res = {}\n",
    "disp = c.df['disposable_salary'].to_dict()\n",
    "for i in give_share_rec.keys():\n",
    "    give_share_i = pd.Series(give_share_rec).loc[min(give_share_rec.keys()):i].to_dict()\n",
    "    res[i] = tot_give(disp, give_share_i, r=c.return_after_inflation)\n",
    "    \n",
    "# Map recommended cumulative giving into df\n",
    "c.df['give_rec_cum'] = pd.Series(res)"
   ]
  },
  {
   "cell_type": "code",
   "execution_count": null,
   "metadata": {},
   "outputs": [],
   "source": [
    "c.df[['cum_disposable_k', 'give_rec_cum']].plot()"
   ]
  },
  {
   "cell_type": "code",
   "execution_count": null,
   "metadata": {},
   "outputs": [],
   "source": [
    "c.df[['disposable_salary_w_interest', 'give_rec_cum']].sum()"
   ]
  },
  {
   "cell_type": "code",
   "execution_count": null,
   "metadata": {},
   "outputs": [],
   "source": []
  }
 ],
 "metadata": {
  "kernelspec": {
   "display_name": "Python 3 (ipykernel)",
   "language": "python",
   "name": "python3"
  },
  "language_info": {
   "codemirror_mode": {
    "name": "ipython",
    "version": 3
   },
   "file_extension": ".py",
   "mimetype": "text/x-python",
   "name": "python",
   "nbconvert_exporter": "python",
   "pygments_lexer": "ipython3",
   "version": "3.8.5"
  }
 },
 "nbformat": 4,
 "nbformat_minor": 1
}