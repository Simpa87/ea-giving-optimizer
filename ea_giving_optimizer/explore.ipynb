{
 "cells": [
  {
   "cell_type": "code",
   "execution_count": 1,
   "metadata": {
    "pycharm": {
     "is_executing": true
    }
   },
   "outputs": [],
   "source": [
    "%load_ext autoreload\n",
    "%autoreload 2"
   ]
  },
  {
   "cell_type": "code",
   "execution_count": 9,
   "metadata": {
    "pycharm": {
     "name": "#%%\n"
    }
   },
   "outputs": [],
   "source": [
    "import pandas as pd\n",
    "import numpy as np\n",
    "import matplotlib.pyplot as plt\n",
    "plt.rcParams['figure.figsize'] = 20, 5\n",
    "\n",
    "from ea_giving_optimizer.helpers import (\n",
    "    Config,\n",
    "    best_giving_optuna,\n",
    "    tot_give,\n",
    "    cum_res_dicts,\n",
    "    apply_cum_metrics\n",
    ")"
   ]
  },
  {
   "cell_type": "markdown",
   "metadata": {},
   "source": [
    "## Configure assumptions (or use default)"
   ]
  },
  {
   "cell_type": "code",
   "execution_count": 11,
   "metadata": {
    "pycharm": {
     "name": "#%%\n"
    }
   },
   "outputs": [
    {
     "name": "stderr",
     "output_type": "stream",
     "text": [
      "/Users/simonandersson/Desktop/code/ea-giving-optimizer/.env/lib/python3.8/site-packages/pandas/core/reshape/merge.py:1204: UserWarning: You are merging on int and float columns where the float values are not equal to their int representation\n",
      "  warnings.warn(\n"
     ]
    },
    {
     "data": {
      "text/html": [
       "<div>\n",
       "<style scoped>\n",
       "    .dataframe tbody tr th:only-of-type {\n",
       "        vertical-align: middle;\n",
       "    }\n",
       "\n",
       "    .dataframe tbody tr th {\n",
       "        vertical-align: top;\n",
       "    }\n",
       "\n",
       "    .dataframe thead th {\n",
       "        text-align: right;\n",
       "    }\n",
       "</style>\n",
       "<table border=\"1\" class=\"dataframe\">\n",
       "  <thead>\n",
       "    <tr style=\"text-align: right;\">\n",
       "      <th></th>\n",
       "      <th>salary_k</th>\n",
       "      <th>share_tax</th>\n",
       "      <th>req_cost_k_year</th>\n",
       "      <th>leak_multiplier</th>\n",
       "      <th>years</th>\n",
       "      <th>compound_interest</th>\n",
       "      <th>salary_k_year</th>\n",
       "      <th>salary_k_year_after_tax</th>\n",
       "      <th>disposable_salary</th>\n",
       "      <th>cum_disposable_k</th>\n",
       "      <th>cum_disp_inc_return_k</th>\n",
       "      <th>cum_disp_inc_return_m</th>\n",
       "      <th>disposable_salary_w_interest</th>\n",
       "    </tr>\n",
       "    <tr>\n",
       "      <th>age</th>\n",
       "      <th></th>\n",
       "      <th></th>\n",
       "      <th></th>\n",
       "      <th></th>\n",
       "      <th></th>\n",
       "      <th></th>\n",
       "      <th></th>\n",
       "      <th></th>\n",
       "      <th></th>\n",
       "      <th></th>\n",
       "      <th></th>\n",
       "      <th></th>\n",
       "      <th></th>\n",
       "    </tr>\n",
       "  </thead>\n",
       "  <tbody>\n",
       "    <tr>\n",
       "      <th>30</th>\n",
       "      <td>53.0</td>\n",
       "      <td>0.272</td>\n",
       "      <td>240.0</td>\n",
       "      <td>0.95</td>\n",
       "      <td>0</td>\n",
       "      <td>1.0000</td>\n",
       "      <td>636.0</td>\n",
       "      <td>463.0</td>\n",
       "      <td>223.0</td>\n",
       "      <td>223.0</td>\n",
       "      <td>223.0</td>\n",
       "      <td>0.22</td>\n",
       "      <td>223.0</td>\n",
       "    </tr>\n",
       "    <tr>\n",
       "      <th>31</th>\n",
       "      <td>54.2</td>\n",
       "      <td>0.000</td>\n",
       "      <td>240.0</td>\n",
       "      <td>0.94</td>\n",
       "      <td>1</td>\n",
       "      <td>0.9900</td>\n",
       "      <td>650.4</td>\n",
       "      <td>0.0</td>\n",
       "      <td>223.0</td>\n",
       "      <td>446.0</td>\n",
       "      <td>446.0</td>\n",
       "      <td>0.45</td>\n",
       "      <td>223.0</td>\n",
       "    </tr>\n",
       "    <tr>\n",
       "      <th>32</th>\n",
       "      <td>55.4</td>\n",
       "      <td>0.000</td>\n",
       "      <td>240.0</td>\n",
       "      <td>0.93</td>\n",
       "      <td>2</td>\n",
       "      <td>0.9801</td>\n",
       "      <td>664.8</td>\n",
       "      <td>0.0</td>\n",
       "      <td>223.0</td>\n",
       "      <td>669.0</td>\n",
       "      <td>669.0</td>\n",
       "      <td>0.67</td>\n",
       "      <td>223.0</td>\n",
       "    </tr>\n",
       "  </tbody>\n",
       "</table>\n",
       "</div>"
      ],
      "text/plain": [
       "     salary_k  share_tax  req_cost_k_year  leak_multiplier  years  \\\n",
       "age                                                                 \n",
       "30       53.0      0.272            240.0             0.95      0   \n",
       "31       54.2      0.000            240.0             0.94      1   \n",
       "32       55.4      0.000            240.0             0.93      2   \n",
       "\n",
       "     compound_interest  salary_k_year  salary_k_year_after_tax  \\\n",
       "age                                                              \n",
       "30              1.0000          636.0                    463.0   \n",
       "31              0.9900          650.4                      0.0   \n",
       "32              0.9801          664.8                      0.0   \n",
       "\n",
       "     disposable_salary  cum_disposable_k  cum_disp_inc_return_k  \\\n",
       "age                                                               \n",
       "30               223.0             223.0                  223.0   \n",
       "31               223.0             446.0                  446.0   \n",
       "32               223.0             669.0                  669.0   \n",
       "\n",
       "     cum_disp_inc_return_m  disposable_salary_w_interest  \n",
       "age                                                       \n",
       "30                    0.22                         223.0  \n",
       "31                    0.45                         223.0  \n",
       "32                    0.67                         223.0  "
      ]
     },
     "execution_count": 11,
     "metadata": {},
     "output_type": "execute_result"
    }
   ],
   "source": [
    "c = Config()\n",
    "c.df.head(3)"
   ]
  },
  {
   "cell_type": "markdown",
   "metadata": {},
   "source": [
    "## Get recommended giving share per age"
   ]
  },
  {
   "cell_type": "code",
   "execution_count": 22,
   "metadata": {
    "pycharm": {
     "name": "#%%\n"
    }
   },
   "outputs": [
    {
     "name": "stderr",
     "output_type": "stream",
     "text": [
      "\u001B[32m[I 2022-01-04 00:56:30,364]\u001B[0m A new study created in memory with name: no-name-67f0b8a3-06ed-4b4a-8a21-ff67c642e47b\u001B[0m\n",
      "/Users/simonandersson/Desktop/code/ea-giving-optimizer/ea_giving_optimizer/helpers.py:249: ExperimentalWarning: enqueue_trial is experimental (supported from v1.2.0). The interface can change in the future.\n",
      "  study.enqueue_trial(give_last_dict)\n",
      "/Users/simonandersson/Desktop/code/ea-giving-optimizer/.env/lib/python3.8/site-packages/optuna/study/study.py:857: ExperimentalWarning: create_trial is experimental (supported from v2.0.0). The interface can change in the future.\n",
      "  create_trial(state=TrialState.WAITING, system_attrs={\"fixed_params\": params})\n",
      "/Users/simonandersson/Desktop/code/ea-giving-optimizer/.env/lib/python3.8/site-packages/optuna/study/study.py:856: ExperimentalWarning: add_trial is experimental (supported from v2.0.0). The interface can change in the future.\n",
      "  self.add_trial(\n",
      "/Users/simonandersson/Desktop/code/ea-giving-optimizer/ea_giving_optimizer/helpers.py:251: ExperimentalWarning: enqueue_trial is experimental (supported from v1.2.0). The interface can change in the future.\n",
      "  study.enqueue_trial(give_all_dict)\n",
      "\u001B[32m[I 2022-01-04 00:56:30,370]\u001B[0m Trial 0 finished with value: 4424.42800271704 and parameters: {30: 0, 31: 0, 32: 0, 33: 0, 34: 0, 35: 0, 36: 0, 37: 0, 38: 0, 39: 0, 40: 0, 41: 0, 42: 0, 43: 0, 44: 0, 45: 0, 46: 0, 47: 0, 48: 0, 49: 0, 50: 0, 51: 0, 52: 0, 53: 0, 54: 0, 55: 0, 56: 0, 57: 0, 58: 0, 59: 0, 60: 0, 61: 0, 62: 0, 63: 0, 64: 0, 65: 0, 66: 0, 67: 0, 68: 0, 69: 0, 70: 0, 71: 0, 72: 0, 73: 0, 74: 0, 75: 0, 76: 0, 77: 0, 78: 0, 79: 0, 80: 1}. Best is trial 0 with value: 4424.42800271704.\u001B[0m\n",
      "\u001B[32m[I 2022-01-04 00:56:30,373]\u001B[0m Trial 1 finished with value: 8414.50005 and parameters: {30: 1, 31: 1, 32: 1, 33: 1, 34: 1, 35: 1, 36: 1, 37: 1, 38: 1, 39: 1, 40: 1, 41: 1, 42: 1, 43: 1, 44: 1, 45: 1, 46: 1, 47: 1, 48: 1, 49: 1, 50: 1, 51: 1, 52: 1, 53: 1, 54: 1, 55: 1, 56: 1, 57: 1, 58: 1, 59: 1, 60: 1, 61: 1, 62: 1, 63: 1, 64: 1, 65: 1, 66: 1, 67: 1, 68: 1, 69: 1, 70: 1, 71: 1, 72: 1, 73: 1, 74: 1, 75: 1, 76: 1, 77: 1, 78: 1, 79: 1, 80: 1}. Best is trial 1 with value: 8414.50005.\u001B[0m\n",
      "\u001B[32m[I 2022-01-04 00:56:30,385]\u001B[0m Trial 2 finished with value: 8165.554036812149 and parameters: {30: 0.8187237648665135, 31: 0.09409513394324354, 32: 0.21909748493688808, 33: 0.536306918138231, 34: 0.6974911068287092, 35: 0.7703016477888428, 36: 0.13889592006803397, 37: 0.02325136365956959, 38: 0.22188930799126194, 39: 0.5779535203630055, 40: 0.7659248263877324, 41: 0.5909282186762065, 42: 0.11629032186557253, 43: 0.7105855127687865, 44: 0.03485961846704655, 45: 0.7660661357526458, 46: 0.6925628662995927, 47: 0.49799173654376694, 48: 0.47406547316025704, 49: 0.6210674090191893, 50: 0.6293457487585569, 51: 0.15106315978254659, 52: 0.32686908109422597, 53: 0.4262283442700733, 54: 0.9488449179853159, 55: 0.8088557149006593, 56: 0.3652060011560768, 57: 0.4198268320191836, 58: 0.7614029627587776, 59: 0.9231798198932714, 60: 0.16854984452766686, 61: 0.07593331571790618, 62: 0.9941627666569716, 63: 0.47054830956087645, 64: 0.8503456556082188, 65: 0.7064740846264942, 66: 0.9159536916102815, 67: 0.9372447192303661, 68: 0.8075926594706703, 69: 0.17179666052737774, 70: 0.1851615343192028, 71: 0.1480831719339899, 72: 0.18093133083520885, 73: 0.3477107503579767, 74: 0.8664901656791393, 75: 0.3834130266549667, 76: 0.6297384203744381, 77: 0.7726209183668861, 78: 0.21662532356317854, 79: 0.613928250945136, 80: 0.5864944775225585}. Best is trial 1 with value: 8414.50005.\u001B[0m\n",
      "\u001B[32m[I 2022-01-04 00:56:30,394]\u001B[0m Trial 3 finished with value: 8122.145618932312 and parameters: {30: 0.12241384852123549, 31: 0.8418882931999254, 32: 0.9457279316826688, 33: 0.41599051893862715, 34: 0.13330311120222904, 35: 0.46869092953193525, 36: 0.5436060376725884, 37: 0.893161238870676, 38: 0.36842157287285937, 39: 0.5179271010551516, 40: 0.9685892078048983, 41: 0.7341253886971335, 42: 0.5077919302813275, 43: 0.33370299689396876, 44: 0.3922097850172729, 45: 0.30578769750673485, 46: 0.7379157125599907, 47: 0.87253880313369, 48: 0.42143972023617426, 49: 0.6280910474052147, 50: 0.9183387922320236, 51: 0.8367984350527714, 52: 0.565103257500486, 53: 0.36044698008709697, 54: 0.28442253116812666, 55: 0.36520688626523046, 56: 0.19284692980455642, 57: 0.8371605438744262, 58: 0.7415014209253097, 59: 0.40223673524772086, 60: 0.7808840722535032, 61: 0.9939615910603539, 62: 0.14363777505888797, 63: 0.2988673359667754, 64: 0.22726870027886925, 65: 0.18910280743465135, 66: 0.212749661058941, 67: 0.6104960499796596, 68: 0.856734222216734, 69: 0.0997139162636621, 70: 0.7265336548781601, 71: 0.20793262580003447, 72: 0.8836282012316458, 73: 0.23348034836159248, 74: 0.18181044485240094, 75: 0.4252864506363061, 76: 0.3987025426510704, 77: 0.1413018482181756, 78: 0.6327769099576422, 79: 0.15900136777964047, 80: 0.5586018731080387}. Best is trial 1 with value: 8414.50005.\u001B[0m\n",
      "\u001B[32m[I 2022-01-04 00:56:30,405]\u001B[0m Trial 4 finished with value: 8109.670557107284 and parameters: {30: 0.4421906117531623, 31: 0.7421063528053314, 32: 0.16291576706962863, 33: 0.16269340464376758, 34: 0.8199715405531451, 35: 0.29315906749533927, 36: 0.9079006225466639, 37: 0.6356795514340816, 38: 0.12863655703125998, 39: 0.9359600895641895, 40: 0.3211889815524901, 41: 0.7773676377734359, 42: 0.38652568104499485, 43: 0.43115383619897285, 44: 0.42339846374417256, 45: 0.029493715521402786, 46: 0.8805894304189735, 47: 0.5231607406523856, 48: 0.5655083687766059, 49: 0.4373952891247703, 50: 0.7211548862361132, 51: 0.29048081778160095, 52: 0.8651305140917416, 53: 0.3611066341090162, 54: 0.4236941204892043, 55: 0.0773201780815097, 56: 0.07754588818416464, 57: 0.158402451867936, 58: 0.7181648931031784, 59: 0.46543766651148744, 60: 0.9464555784382876, 61: 0.8796972701659537, 62: 0.4224367659094672, 63: 0.5993541023238572, 64: 0.5349142052343557, 65: 0.6886168232717689, 66: 0.3724952348760312, 67: 0.34120888357955514, 68: 0.34458298846408086, 69: 0.8411210895674198, 70: 0.6384245294925842, 71: 0.16310056883697865, 72: 0.1894965189466199, 73: 0.8659123665819423, 74: 0.7244889064822739, 75: 0.4366192990961496, 76: 0.9473704722528412, 77: 0.6937375284489973, 78: 0.9339076050152993, 79: 0.4676278853557839, 80: 0.08582042665802758}. Best is trial 1 with value: 8414.50005.\u001B[0m\n",
      "\u001B[32m[I 2022-01-04 00:56:30,414]\u001B[0m Trial 5 finished with value: 8235.892085118487 and parameters: {30: 0.8140826061978521, 31: 0.1604149050832787, 32: 0.05752737835203836, 33: 0.9356582990391733, 34: 0.0729001550923224, 35: 0.6902335072374086, 36: 0.35336931491294943, 37: 0.15826660232912515, 38: 0.7209144424883164, 39: 0.24280995370851255, 40: 0.5924872392016671, 41: 0.8345077638702322, 42: 0.5310738354441178, 43: 0.04560670078198026, 44: 0.7640526937281346, 45: 0.7752949541490342, 46: 0.9156985228899951, 47: 0.2636774277750815, 48: 0.8549487254746428, 49: 0.42537241491219224, 50: 0.8968230643069974, 51: 0.02827466733744599, 52: 0.9857490000871548, 53: 0.005170613431841553, 54: 0.7483264100495901, 55: 0.9755397083492665, 56: 0.6946556370528926, 57: 0.409794520296604, 58: 0.09099150380102827, 59: 0.47177412203120694, 60: 0.964624836822506, 61: 0.9978244487135057, 62: 0.06391851454583819, 63: 0.9103573750900997, 64: 0.16720865960909181, 65: 0.6062381093812563, 66: 0.9614919748768626, 67: 0.8076212266077124, 68: 0.21810918551798875, 69: 0.4496356538994928, 70: 0.435615363192028, 71: 0.49876006142506857, 72: 0.054796004772862617, 73: 0.6718113269244845, 74: 0.29733878324802987, 75: 0.3601008981001047, 76: 0.8841613712110274, 77: 0.4872525076996568, 78: 0.9621795013769513, 79: 0.37414114060900394, 80: 0.7791713412132487}. Best is trial 1 with value: 8414.50005.\u001B[0m\n",
      "\u001B[32m[I 2022-01-04 00:56:30,424]\u001B[0m Trial 6 finished with value: 8191.019401968026 and parameters: {30: 0.34296024094346467, 31: 0.26465096354405804, 32: 0.6822629170923158, 33: 0.6110050018013737, 34: 0.1622961992139843, 35: 0.36343291069140493, 36: 0.9060394546730274, 37: 0.1057425073990349, 38: 0.7917674185226662, 39: 0.8180315018222494, 40: 0.7900343726128424, 41: 0.6456916763240669, 42: 0.9976394727550877, 43: 0.4861726364792628, 44: 0.4550541898123358, 45: 0.15742643027130443, 46: 0.41175757386799305, 47: 0.16607436727947367, 48: 0.27707784782621603, 49: 0.06627973059579229, 50: 0.2320540408346662, 51: 0.4307144376662726, 52: 0.22130013423776052, 53: 0.7822230844064608, 54: 0.6699715838987484, 55: 0.27428495072104553, 56: 0.34315935452901825, 57: 0.6422090633843203, 58: 0.929604731979067, 59: 0.7964247881455719, 60: 0.9858295436507054, 61: 0.07074504924261016, 62: 0.933895742996414, 63: 0.2715510009758749, 64: 0.8112400196717144, 65: 0.14998308053087672, 66: 0.14989847650447774, 67: 0.09865000010347502, 68: 0.12360793011293514, 69: 0.9852415781034058, 70: 0.3116962124137296, 71: 0.9560982450871524, 72: 0.2504009170173006, 73: 0.8209621474314822, 74: 0.48881127070115904, 75: 0.2433253663157855, 76: 0.7364602796302543, 77: 0.28631440227816296, 78: 0.4083534608829208, 79: 0.7674709157394635, 80: 0.6910276986509928}. Best is trial 1 with value: 8414.50005.\u001B[0m\n"
     ]
    },
    {
     "name": "stderr",
     "output_type": "stream",
     "text": [
      "\u001B[32m[I 2022-01-04 00:56:30,433]\u001B[0m Trial 7 finished with value: 7996.323639505633 and parameters: {30: 0.6871383948086978, 31: 0.16812712570966104, 32: 0.2358908101681252, 33: 0.007676309011183768, 34: 0.5749572551901521, 35: 0.12605568694583558, 36: 0.05191612216831021, 37: 0.16211942742252805, 38: 0.553408612632624, 39: 0.15943362852428822, 40: 0.32617824199341894, 41: 0.0864431938950797, 42: 0.24628805751928473, 43: 0.35599964624711056, 44: 0.17747207703315881, 45: 0.8040924825932326, 46: 0.2541692293832063, 47: 0.6110308589944407, 48: 0.5576525694198958, 49: 0.6347245751326868, 50: 0.018709531755286113, 51: 0.635241358714659, 52: 0.7766238990958957, 53: 0.9653100942039792, 54: 0.5820659750558497, 55: 0.2096894015927393, 56: 0.03184683130181898, 57: 0.7481803280191412, 58: 0.2165647928782949, 59: 0.39569424062655034, 60: 0.03793418217701572, 61: 0.5923630481789375, 62: 0.24502857447985005, 63: 0.4221228062200658, 64: 0.950579418785555, 65: 0.8531258098781994, 66: 0.25696289293524543, 67: 0.9151583281581671, 68: 0.24782822325659104, 69: 0.698428439589545, 70: 0.5822649278654428, 71: 0.7401260280536441, 72: 0.32964227394322976, 73: 0.2255404402773643, 74: 0.9803800820066176, 75: 0.03871540624850445, 76: 0.9581361937634096, 77: 0.8860444051549126, 78: 0.5617159916818131, 79: 0.18007524879628312, 80: 0.28322202280839937}. Best is trial 1 with value: 8414.50005.\u001B[0m\n",
      "\u001B[32m[I 2022-01-04 00:56:30,443]\u001B[0m Trial 8 finished with value: 8108.782868228968 and parameters: {30: 0.8605433870057505, 31: 0.22131441544060027, 32: 0.2622656745693357, 33: 0.7142988359972231, 34: 0.6243040430158452, 35: 0.6130493728146453, 36: 0.8676822603277957, 37: 0.3714096766697508, 38: 0.8923996288687523, 39: 0.08361358313869882, 40: 0.8366537114760652, 41: 0.3064769472083908, 42: 0.4234364855951538, 43: 0.9802346952158318, 44: 0.441458589472947, 45: 0.41745433484621597, 46: 0.016228858151750347, 47: 0.3391537822874747, 48: 0.8317253961478017, 49: 0.9105494417130506, 50: 0.8758319420600303, 51: 0.8778089188232959, 52: 0.3714552462890164, 53: 0.6190076724562465, 54: 0.8440462875490242, 55: 0.7373735977574395, 56: 0.09429271246029225, 57: 0.7103057673730926, 58: 0.08458472579435505, 59: 0.4142161882590977, 60: 0.8247520991214077, 61: 0.4801889889387061, 62: 0.061273216557855226, 63: 0.918113455125988, 64: 0.08438911016117379, 65: 0.5993120334861659, 66: 0.1589129113005847, 67: 0.3103635955766202, 68: 0.6102622651622979, 69: 0.8938149493296479, 70: 0.6082592364126295, 71: 0.7268044462861641, 72: 0.5814742479216081, 73: 0.08805948230902183, 74: 0.5168531069900258, 75: 0.6308492842656402, 76: 0.7807367609036806, 77: 0.2682086315980764, 78: 0.12827428269919805, 79: 0.6960725654483592, 80: 0.12283593297909734}. Best is trial 1 with value: 8414.50005.\u001B[0m\n",
      "\u001B[32m[I 2022-01-04 00:56:30,453]\u001B[0m Trial 9 finished with value: 8154.650240026017 and parameters: {30: 0.6162829076889048, 31: 0.6517985240350762, 32: 0.7192813503236167, 33: 0.9812207799850521, 34: 0.1500457327734509, 35: 0.6195039848851208, 36: 0.8638514972444967, 37: 0.2451997089813268, 38: 0.8727089024094806, 39: 0.6569982853356697, 40: 0.6521069609547606, 41: 0.2389823837163455, 42: 0.5904490101102756, 43: 0.4796206142431576, 44: 0.012120683530811638, 45: 0.013773675046732214, 46: 0.11053576159511158, 47: 0.3073788867081988, 48: 0.5969777584717243, 49: 0.029107934540623992, 50: 0.9613521501473657, 51: 0.7913370271817718, 52: 0.7015324016894883, 53: 0.3079185208066022, 54: 0.9957995466149794, 55: 0.5343816796387355, 56: 0.25919277051096845, 57: 0.379101316908658, 58: 0.19822415009946237, 59: 0.8360239405247175, 60: 0.5921059746536043, 61: 0.6476656276360185, 62: 0.42713687566776437, 63: 0.609563798549549, 64: 0.3682815140793263, 65: 0.2842632517465672, 66: 0.37426183727612783, 67: 0.6625532541349182, 68: 0.6559384333535504, 69: 0.5103169276354955, 70: 0.3794273083780576, 71: 0.29592929758855857, 72: 0.044814014897975096, 73: 0.8940527127723231, 74: 0.819283142746049, 75: 0.33680528968965895, 76: 0.025998555197283002, 77: 0.9716194751520553, 78: 0.7400786230663916, 79: 0.9715078829628797, 80: 0.15535394750376696}. Best is trial 1 with value: 8414.50005.\u001B[0m\n"
     ]
    }
   ],
   "source": [
    "# If negative return after existential risk, then the baseline trial number 1 should win, giving everything\n",
    "# each year without waiting\n",
    "give_share_rec = best_giving_optuna(c=c, n_trials=10)"
   ]
  },
  {
   "cell_type": "markdown",
   "metadata": {},
   "source": [
    "## Summarize results"
   ]
  },
  {
   "cell_type": "code",
   "execution_count": 16,
   "metadata": {},
   "outputs": [
    {
     "name": "stdout",
     "output_type": "stream",
     "text": [
      "240 lives saved\n"
     ]
    },
    {
     "data": {
      "text/plain": [
       "<AxesSubplot:xlabel='age'>"
      ]
     },
     "execution_count": 16,
     "metadata": {},
     "output_type": "execute_result"
    },
    {
     "data": {
      "image/png": "[encoded data removed]",
      "text/plain": [
       "<Figure size 1440x360 with 1 Axes>"
      ]
     },
     "metadata": {
      "needs_background": "light"
     },
     "output_type": "display_data"
    }
   ],
   "source": [
    "c = apply_cum_metrics(c, give_share_rec)\n",
    "c.print_lives_saved()\n",
    "(c.df.iloc[:, -3:]/1000).plot()"
   ]
  },
  {
   "cell_type": "markdown",
   "metadata": {},
   "source": [
    "## Naive reality check"
   ]
  },
  {
   "cell_type": "code",
   "execution_count": 21,
   "metadata": {},
   "outputs": [
    {
     "name": "stdout",
     "output_type": "stream",
     "text": [
      "328 lives saved naive calculation no interest or discounting\n"
     ]
    }
   ],
   "source": [
    "# Reality check vs disposable salary per year giving everything but no interest or discounting of ex risk\n",
    "# Should be higher than \"optimized\" result if net return is lower than 1 due to existential risk discounting \n",
    "# (leading to giving everything immediately being the best solution)\n",
    "print(round((c.df.disposable_salary/c.save_qa_life_cost_k).sum()), \"lives saved naive calculation no interest or discounting\")"
   ]
  },
  {
   "cell_type": "code",
   "execution_count": null,
   "metadata": {},
   "outputs": [],
   "source": []
  }
 ],
 "metadata": {
  "kernelspec": {
   "display_name": "Python 3 (ipykernel)",
   "language": "python",
   "name": "python3"
  },
  "language_info": {
   "codemirror_mode": {
    "name": "ipython",
    "version": 3
   },
   "file_extension": ".py",
   "mimetype": "text/x-python",
   "name": "python",
   "nbconvert_exporter": "python",
   "pygments_lexer": "ipython3",
   "version": "3.8.5"
  }
 },
 "nbformat": 4,
 "nbformat_minor": 1
}